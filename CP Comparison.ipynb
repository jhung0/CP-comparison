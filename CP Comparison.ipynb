{
 "cells": [
  {
   "cell_type": "code",
   "execution_count": null,
   "metadata": {
    "collapsed": true
   },
   "outputs": [],
   "source": [
    "import glob\n",
    "import numpy as np\n",
    "import pandas as pd\n",
    "import os\n",
    "path =os.path.join('/Volumes','imaging_analysis','2010_08_21_Malaria_MartiLab_MatthiasMarti_HSPH','2016_03_25') # use your path\n",
    "#get training data for object classes (rbc, ring, gam)\n",
    "trainData_noB = pd.read_csv(os.path.join(path,'analysis_malaria_2016_03_25_train_Per_FilteredRBC.csv'),index_col=None)\n",
    "trainData_noB = trainData_noB.sort_values('ImageNumber')\n",
    "\n",
    "#get training data for background\n",
    "trainData_B = pd.read_csv(os.path.join(path,'analysis_malaria_2016_03_25_train_B_Per_FilteredBackground.csv'),index_col=None)\n",
    "trainData_B = trainData_B.sort_values('ImageNumber')\n",
    "\n",
    "#get test data\n",
    "testData = pd.read_csv(os.path.join(path,'analysis_malaria_2016_03_25_test_Per_FilteredRBC.csv'),index_col=None)\n",
    "testData = testData.sort_values(['ImageNumber','FilteredRBC_Number_Object_Number'])\n"
   ]
  },
  {
   "cell_type": "code",
   "execution_count": null,
   "metadata": {
    "collapsed": true
   },
   "outputs": [],
   "source": [
    "#get the class information\n",
    "\n",
    "classes = {'rbc':0, 'ring':1, 'gam':2, '3':3}\n",
    "#for each file in ImageSets/train.txt, get the annotation file, get the class\n",
    "input_dir = os.path.join('/Users', 'jyhung', 'Downloads', 'try1', 'data')\n",
    "input_dir2 = os.path.join('/Volumes','imaging_analysis','2010_08_21_Malaria_MartiLab_MatthiasMarti_HSPH','2016_03_25')\n",
    "list_train = [] #classes of training set (not including background)\n",
    "list_test = [] #class of test set\n",
    "list_train_xy = [] #bounding box coordinates [xmin, ymin, xmax, ymax] of each training set point\n",
    "list_test_xy = [] #bounding box coordinates [xmin, ymin, xmax, ymax] of each test set point\n",
    "difficult_index = [] #indices of points tagged as difficult\n",
    "test_image_number = [] #indices of test images\n",
    "\n",
    "for train_or_test in ['train', 'test']:\n",
    "    if train_or_test == 'train':\n",
    "        filename = os.path.join(input_dir2,'load_data_train_cluster.csv')\n",
    "        start = 1\n",
    "    else:\n",
    "        filename = os.path.join(input_dir, 'ImageSets', train_or_test+'.txt')\n",
    "        start = 0\n",
    "    with open(filename) as f:\n",
    "        im_data = f.readlines()\n",
    "    num_ims = len(im_data)\n",
    "    \n",
    "    # for each image, get per object information\n",
    "    for ix in range(start,num_ims):\n",
    "        #get Annotations\n",
    "        if train_or_test == 'train':\n",
    "            file_ = im_data[ix].strip().split(',')[1]\n",
    "            file_subimage_ = file_.split('.')[0].split('_')\n",
    "            filename_subimage = '_'.join(file_subimage_[0:2])\n",
    "        else:\n",
    "            filename_subimage = im_data[ix].strip()\n",
    "        with open(os.path.join(input_dir, 'Annotations', filename_subimage+'.txt')) as f:\n",
    "            cell_data = f.readlines()\n",
    "\n",
    "        #for each object, get location and class information\n",
    "        if train_or_test == 'train':\n",
    "            object_range = range(int(file_subimage_[2]),int(file_subimage_[2])+1)\n",
    "        else:\n",
    "            object_range = range(len(cell_data))  \n",
    "        for iix in object_range:\n",
    "            try:\n",
    "                x1, y1, x2, y2, cls, difficult = cell_data[iix].strip().split(' ')\n",
    "            except:\n",
    "                raise Exception('Error in reading data, line %s:%s'%(str(ix+1), data[ix]))\n",
    "            if not difficult == 'True':\n",
    "                if train_or_test == 'train':\n",
    "                    list_train.append(cls)\n",
    "                    list_train_xy.append([x1,y1,x2,y2])\n",
    "                elif train_or_test == 'test':\n",
    "                    list_test.append(cls)\n",
    "                    list_test_xy.append([x1,y1,x2,y2])\n",
    "                    test_image_number.append(ix+1)\n",
    "            elif train_or_test == 'test':\n",
    "                    difficult_index.append(iix)\n",
    "            \n",
    "trainy_noB = list_train\n",
    "testy_gt = list_test\n",
    "test_xy = list_test_xy\n"
   ]
  }
 ],
 "metadata": {
  "kernelspec": {
   "display_name": "Python 2",
   "language": "python",
   "name": "python2"
  },
  "language_info": {
   "codemirror_mode": {
    "name": "ipython",
    "version": 2
   },
   "file_extension": ".py",
   "mimetype": "text/x-python",
   "name": "python",
   "nbconvert_exporter": "python",
   "pygments_lexer": "ipython2",
   "version": "2.7.11"
  }
 },
 "nbformat": 4,
 "nbformat_minor": 0
}
